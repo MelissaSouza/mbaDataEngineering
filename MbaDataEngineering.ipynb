﻿{
  "metadata": {
    "name": "MbaDataEngineering",
    "kernelspec": {
      "language": "scala",
      "name": "spark2-scala"
    },
    "language_info": {
      "codemirror_mode": "text/x-scala",
      "file_extension": ".scala",
      "mimetype": "text/x-scala",
      "name": "scala",
      "pygments_lexer": "scala"
    }
  },
  "nbformat": 4,
  "nbformat_minor": 2,
  "cells": [
    {
      "cell_type": "code",
      "execution_count": 0,
      "metadata": {
        "autoscroll": "auto"
      },
      "outputs": [],
      "source": "%hive\nselect * from endereco;\n\n"
    },
    {
      "cell_type": "code",
      "execution_count": 1,
      "metadata": {
        "autoscroll": "auto"
      },
      "outputs": [],
      "source": "%hive\nselect * from pessoa_acidente;"
    },
    {
      "cell_type": "code",
      "execution_count": 2,
      "metadata": {
        "autoscroll": "auto"
      },
      "outputs": [],
      "source": "%hive\nselect * from ocorrencias_transito;"
    },
    {
      "cell_type": "code",
      "execution_count": 3,
      "metadata": {
        "autoscroll": "auto"
      },
      "outputs": [],
      "source": "%hive\nselect\n    e.nome_bairro,\n    count(o.numero_boletim) as numero_acidentes\n    from ocorrencias_transito as o\n    left join endereco as e on o.numero_boletim \u003d e.numero_boletim\n    left join pessoa_acidente as p on o.numero_boletim \u003d p.numero_boletim\n    where p.embreagues \u003d \u0027SIM\u0027 and\n    (o.desc_tipo_acidente like \"%COM VITIMA%\" or\n    o.desc_tipo_acidente like \"%C/ VITIMA%\")\n    group by e.nome_bairro;\n    "
    },
    {
      "cell_type": "code",
      "execution_count": 4,
      "metadata": {
        "autoscroll": "auto"
      },
      "outputs": [],
      "source": "%hive\nselect \n    o.pavimento,\n    o.desc_tempo,\n    count(o.numero_boletim) as numero_acidentes\n    from ocorrencias_transito as o\n    group by o.pavimento, o.desc_tempo;\n    "
    },
    {
      "cell_type": "code",
      "execution_count": 5,
      "metadata": {
        "autoscroll": "auto"
      },
      "outputs": [],
      "source": "%hive\nselect\n    p.especie_veiculo,\n    o.pavimento,\n    sum(p.n_envolvido) as pessoas_envolvidas\n    from pessoa_acidente as p\n    join ocorrencias_transito as o on o.numero_boletim \u003d p.numero_boletim\n    group by p.especie_veiculo, o.pavimento;\n    "
    },
    {
      "cell_type": "code",
      "execution_count": 6,
      "metadata": {
        "autoscroll": "auto"
      },
      "outputs": [],
      "source": "%hive\nselect\n    p.especie_veiculo,\n    o.desc_tipo_acidente,\n    avg(p.idade) as media_idade\n    from pessoa_acidente as p\n    join ocorrencias_transito as o on o.numero_boletim \u003d p.numero_boletim\n    group by p.especie_veiculo, o.desc_tipo_acidente;"
    },
    {
      "cell_type": "code",
      "execution_count": 7,
      "metadata": {
        "autoscroll": "auto"
      },
      "outputs": [],
      "source": "%hive\nselect\n    p.embreagues,\n    avg(p.idade) as media_idade\n    from pessoa_acidente as p\n    --where p.embreagues in (\u0027NAO\u0027,\u0027SIM\u0027)\n    group by p.embreagues;\n    "
    }
  ]
}